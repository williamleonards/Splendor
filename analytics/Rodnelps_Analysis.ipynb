{
 "cells": [
  {
   "cell_type": "code",
   "execution_count": null,
   "metadata": {},
   "outputs": [],
   "source": [
    "import collections\n",
    "import itertools\n",
    "import subprocess\n",
    "\n",
    "import matplotlib.pyplot as plt\n",
    "import numpy as np\n",
    "\n",
    "%matplotlib inline\n",
    "\n",
    "# Centers figures\n",
    "from IPython.core.display import HTML\n",
    "HTML(\"\"\"\n",
    "<style>\n",
    ".output_png {\n",
    "    display: table-cell;\n",
    "    text-align: center;\n",
    "    vertical-align: middle;\n",
    "}\n",
    "</style>\n",
    "\"\"\")"
   ]
  },
  {
   "cell_type": "code",
   "execution_count": null,
   "metadata": {},
   "outputs": [],
   "source": [
    "args = [\"MCTSv3AI 5\", \"ArthurAI\"]"
   ]
  },
  {
   "cell_type": "raw",
   "metadata": {},
   "source": [
    "# runs = 100\n",
    "subprocess.run([\"bash\", \"run.sh\", str(runs), *(_ for arg in args for _ in arg.split())])"
   ]
  },
  {
   "cell_type": "code",
   "execution_count": null,
   "metadata": {},
   "outputs": [],
   "source": [
    "output = \"results/\" + \" \".join(args) + \".txt\"\n",
    "args = [\"\".join(arg.split()) for arg in args]\n",
    "players = [\"Player {}: {}\".format(i + 1, x) for i, x in enumerate(args)]"
   ]
  },
  {
   "cell_type": "raw",
   "metadata": {},
   "source": [
    "Players\n",
    "[Name] [Points]\n",
    "...\n",
    "Decks\n",
    "LOW [Size]\n",
    "MID [Size]\n",
    "HIGH [Size]\n",
    "Rounds\n",
    "[Count]\n",
    "Winner(s)\n",
    "[Name]\n",
    "..."
   ]
  },
  {
   "cell_type": "code",
   "execution_count": null,
   "metadata": {},
   "outputs": [],
   "source": [
    "points = collections.defaultdict(list)\n",
    "low_size = []\n",
    "mid_size = []\n",
    "high_size = []\n",
    "rounds = []\n",
    "wins = collections.defaultdict(list)\n",
    "\n",
    "\n",
    "def parse(output_file):\n",
    "    global wins\n",
    "    with open(output_file) as file:\n",
    "        line = file.readline().strip()\n",
    "        while line:\n",
    "\n",
    "            # Players\n",
    "            assert line == \"Players\"\n",
    "            pts = collections.defaultdict(int)\n",
    "            line = file.readline().strip()\n",
    "            while line != \"Decks\":\n",
    "                parts = line.rpartition(\" \")\n",
    "                pts[parts[0]] = int(parts[2])\n",
    "                line = file.readline().strip()\n",
    "            for name in players:\n",
    "                points[name].append(pts[name])\n",
    "\n",
    "            # Decks\n",
    "            assert line == \"Decks\"\n",
    "            low_size.append(int(file.readline().strip().split()[1]))\n",
    "            mid_size.append(int(file.readline().strip().split()[1]))\n",
    "            high_size.append(int(file.readline().strip().split()[1]))\n",
    "\n",
    "            # Rounds\n",
    "            assert file.readline().strip() == \"Rounds\"\n",
    "            rounds.append(int(file.readline().strip()))\n",
    "\n",
    "            # Winner(s)\n",
    "            assert file.readline().strip() == \"Winner(s)\"\n",
    "            winners = set()\n",
    "            line = file.readline().strip()\n",
    "            while line and line != \"Players\":\n",
    "                winners.add(line)\n",
    "                line = file.readline().strip()\n",
    "            for name in players:\n",
    "                wins[name].append(1 if name in winners else 0)\n",
    "\n",
    "    wins = {name: list(itertools.accumulate(wins[name])) for name in wins}\n",
    "    return len(rounds)\n",
    "\n",
    "\n",
    "n = parse(output)"
   ]
  },
  {
   "cell_type": "code",
   "execution_count": null,
   "metadata": {},
   "outputs": [],
   "source": [
    "def moving_average(period):\n",
    "    # https://stackoverflow.com/questions/13728392/moving-average-or-running-mean/43200476#43200476\n",
    "    from scipy.ndimage.filters import uniform_filter1d\n",
    "    return lambda x: uniform_filter1d(np.array(x, dtype=float), size=period)\n",
    "\n",
    "\n",
    "smooth = moving_average(5)"
   ]
  },
  {
   "cell_type": "code",
   "execution_count": null,
   "metadata": {},
   "outputs": [],
   "source": [
    "plt.figure(figsize=(16, 4))\n",
    "for name in players:\n",
    "    plt.plot(range(n), points[name], label=name)\n",
    "plt.xlabel(\"Iteration number\")\n",
    "plt.ylabel(\"Number of points\")\n",
    "plt.grid()\n",
    "plt.legend()\n",
    "plt.show()"
   ]
  },
  {
   "cell_type": "code",
   "execution_count": null,
   "metadata": {},
   "outputs": [],
   "source": [
    "plt.figure(figsize=(16, 4))\n",
    "for name in players:\n",
    "    plt.plot(range(n), smooth(points[name]), label=name)\n",
    "plt.xlabel(\"Iteration number\")\n",
    "plt.ylabel(\"Number of points, smoothed\")\n",
    "plt.grid()\n",
    "plt.legend()\n",
    "plt.show()"
   ]
  },
  {
   "cell_type": "code",
   "execution_count": null,
   "metadata": {},
   "outputs": [],
   "source": [
    "plt.figure(figsize=(16, 4))\n",
    "plt.plot(range(n), low_size, label=\"Cards left in LOW deck\")\n",
    "plt.plot(range(n), mid_size, label=\"Cards left in MID deck\")\n",
    "plt.plot(range(n), high_size, label=\"Cards left in HIGH deck\")\n",
    "plt.plot(range(n), rounds, label=\"Number of rounds\")\n",
    "plt.xlabel(\"Iteration number\")\n",
    "plt.ylabel(\"Data\")\n",
    "plt.grid()\n",
    "plt.legend()\n",
    "plt.show()"
   ]
  },
  {
   "cell_type": "code",
   "execution_count": null,
   "metadata": {},
   "outputs": [],
   "source": [
    "plt.figure(figsize=(16, 4))\n",
    "plt.plot(range(n), smooth(low_size), label=\"Cards left in LOW deck\")\n",
    "plt.plot(range(n), smooth(mid_size), label=\"Cards left in MID deck\")\n",
    "plt.plot(range(n), smooth(high_size), label=\"Cards left in HIGH deck\")\n",
    "plt.plot(range(n), smooth(rounds), label=\"Number of rounds\")\n",
    "plt.xlabel(\"Iteration number\")\n",
    "plt.ylabel(\"Data, smoothed\")\n",
    "plt.grid()\n",
    "plt.legend()\n",
    "plt.show()"
   ]
  },
  {
   "cell_type": "code",
   "execution_count": null,
   "metadata": {},
   "outputs": [],
   "source": [
    "plt.figure(figsize=(16, 4))\n",
    "for name in players:\n",
    "    plt.plot(range(n), wins[name], label=name)\n",
    "plt.xlabel(\"Iteration number\")\n",
    "plt.ylabel(\"Cumulative number of wins\")\n",
    "plt.grid()\n",
    "plt.legend()\n",
    "plt.show()"
   ]
  },
  {
   "cell_type": "code",
   "execution_count": null,
   "metadata": {},
   "outputs": [],
   "source": [
    "for name in players:\n",
    "    print(\"{} wins: {}\".format(name, wins[name][-1]))"
   ]
  }
 ],
 "metadata": {
  "kernelspec": {
   "display_name": "Python 3",
   "language": "python",
   "name": "python3"
  },
  "language_info": {
   "codemirror_mode": {
    "name": "ipython",
    "version": 3
   },
   "file_extension": ".py",
   "mimetype": "text/x-python",
   "name": "python",
   "nbconvert_exporter": "python",
   "pygments_lexer": "ipython3",
   "version": "3.7.4"
  }
 },
 "nbformat": 4,
 "nbformat_minor": 2
}
